{
 "cells": [
  {
   "cell_type": "code",
   "execution_count": null,
   "id": "a60d80dc-1a6e-4b97-adce-454c0bd6cb41",
   "metadata": {},
   "outputs": [],
   "source": [
    "print(\"Hello bro\")\n",
    "print(\"Hai bro How are you\")"
   ]
  },
  {
   "cell_type": "code",
   "execution_count": null,
   "id": "77fde279",
   "metadata": {},
   "outputs": [],
   "source": [
    "print(\"Its all right\")"
   ]
  }
 ],
 "metadata": {
  "kernelspec": {
   "display_name": "Python 3 (ipykernel)",
   "language": "python",
   "name": "python3"
  },
  "language_info": {
   "codemirror_mode": {
    "name": "ipython",
    "version": 3
   },
   "file_extension": ".py",
   "mimetype": "text/x-python",
   "name": "python",
   "nbconvert_exporter": "python",
   "pygments_lexer": "ipython3",
   "version": "3.11.7"
  }
 },
 "nbformat": 4,
 "nbformat_minor": 5
}
